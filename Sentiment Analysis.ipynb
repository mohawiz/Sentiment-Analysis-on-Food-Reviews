{
 "cells": [
  {
   "cell_type": "code",
   "execution_count": 1,
   "id": "3f8a1799",
   "metadata": {},
   "outputs": [],
   "source": [
    "import pandas as pd\n",
    "import numpy as np\n",
    "import matplotlib.pyplot as plt\n",
    "import seaborn as sns\n",
    "plt.style.use('ggplot')\n",
    "import nltk"
   ]
  },
  {
   "cell_type": "code",
   "execution_count": 4,
   "id": "63e32e92",
   "metadata": {},
   "outputs": [
    {
     "name": "stdout",
     "output_type": "stream",
     "text": [
      "(568454, 10)\n",
      "(500, 10)\n"
     ]
    }
   ],
   "source": [
    "#reading data\n",
    "df = pd.read_csv('D://Kaggle//amazon fine reviews/Reviews.csv')\n",
    "print(df.shape)\n",
    "df = df.head(500)\n",
    "print(df.shape)"
   ]
  },
  {
   "cell_type": "code",
   "execution_count": 5,
   "id": "6f37f9a7",
   "metadata": {
    "scrolled": true
   },
   "outputs": [
    {
     "data": {
      "text/html": [
       "<div>\n",
       "<style scoped>\n",
       "    .dataframe tbody tr th:only-of-type {\n",
       "        vertical-align: middle;\n",
       "    }\n",
       "\n",
       "    .dataframe tbody tr th {\n",
       "        vertical-align: top;\n",
       "    }\n",
       "\n",
       "    .dataframe thead th {\n",
       "        text-align: right;\n",
       "    }\n",
       "</style>\n",
       "<table border=\"1\" class=\"dataframe\">\n",
       "  <thead>\n",
       "    <tr style=\"text-align: right;\">\n",
       "      <th></th>\n",
       "      <th>Id</th>\n",
       "      <th>ProductId</th>\n",
       "      <th>UserId</th>\n",
       "      <th>ProfileName</th>\n",
       "      <th>HelpfulnessNumerator</th>\n",
       "      <th>HelpfulnessDenominator</th>\n",
       "      <th>Score</th>\n",
       "      <th>Time</th>\n",
       "      <th>Summary</th>\n",
       "      <th>Text</th>\n",
       "    </tr>\n",
       "  </thead>\n",
       "  <tbody>\n",
       "    <tr>\n",
       "      <th>0</th>\n",
       "      <td>1</td>\n",
       "      <td>B001E4KFG0</td>\n",
       "      <td>A3SGXH7AUHU8GW</td>\n",
       "      <td>delmartian</td>\n",
       "      <td>1</td>\n",
       "      <td>1</td>\n",
       "      <td>5</td>\n",
       "      <td>1303862400</td>\n",
       "      <td>Good Quality Dog Food</td>\n",
       "      <td>I have bought several of the Vitality canned d...</td>\n",
       "    </tr>\n",
       "    <tr>\n",
       "      <th>1</th>\n",
       "      <td>2</td>\n",
       "      <td>B00813GRG4</td>\n",
       "      <td>A1D87F6ZCVE5NK</td>\n",
       "      <td>dll pa</td>\n",
       "      <td>0</td>\n",
       "      <td>0</td>\n",
       "      <td>1</td>\n",
       "      <td>1346976000</td>\n",
       "      <td>Not as Advertised</td>\n",
       "      <td>Product arrived labeled as Jumbo Salted Peanut...</td>\n",
       "    </tr>\n",
       "    <tr>\n",
       "      <th>2</th>\n",
       "      <td>3</td>\n",
       "      <td>B000LQOCH0</td>\n",
       "      <td>ABXLMWJIXXAIN</td>\n",
       "      <td>Natalia Corres \"Natalia Corres\"</td>\n",
       "      <td>1</td>\n",
       "      <td>1</td>\n",
       "      <td>4</td>\n",
       "      <td>1219017600</td>\n",
       "      <td>\"Delight\" says it all</td>\n",
       "      <td>This is a confection that has been around a fe...</td>\n",
       "    </tr>\n",
       "    <tr>\n",
       "      <th>3</th>\n",
       "      <td>4</td>\n",
       "      <td>B000UA0QIQ</td>\n",
       "      <td>A395BORC6FGVXV</td>\n",
       "      <td>Karl</td>\n",
       "      <td>3</td>\n",
       "      <td>3</td>\n",
       "      <td>2</td>\n",
       "      <td>1307923200</td>\n",
       "      <td>Cough Medicine</td>\n",
       "      <td>If you are looking for the secret ingredient i...</td>\n",
       "    </tr>\n",
       "    <tr>\n",
       "      <th>4</th>\n",
       "      <td>5</td>\n",
       "      <td>B006K2ZZ7K</td>\n",
       "      <td>A1UQRSCLF8GW1T</td>\n",
       "      <td>Michael D. Bigham \"M. Wassir\"</td>\n",
       "      <td>0</td>\n",
       "      <td>0</td>\n",
       "      <td>5</td>\n",
       "      <td>1350777600</td>\n",
       "      <td>Great taffy</td>\n",
       "      <td>Great taffy at a great price.  There was a wid...</td>\n",
       "    </tr>\n",
       "  </tbody>\n",
       "</table>\n",
       "</div>"
      ],
      "text/plain": [
       "   Id   ProductId          UserId                      ProfileName  \\\n",
       "0   1  B001E4KFG0  A3SGXH7AUHU8GW                       delmartian   \n",
       "1   2  B00813GRG4  A1D87F6ZCVE5NK                           dll pa   \n",
       "2   3  B000LQOCH0   ABXLMWJIXXAIN  Natalia Corres \"Natalia Corres\"   \n",
       "3   4  B000UA0QIQ  A395BORC6FGVXV                             Karl   \n",
       "4   5  B006K2ZZ7K  A1UQRSCLF8GW1T    Michael D. Bigham \"M. Wassir\"   \n",
       "\n",
       "   HelpfulnessNumerator  HelpfulnessDenominator  Score        Time  \\\n",
       "0                     1                       1      5  1303862400   \n",
       "1                     0                       0      1  1346976000   \n",
       "2                     1                       1      4  1219017600   \n",
       "3                     3                       3      2  1307923200   \n",
       "4                     0                       0      5  1350777600   \n",
       "\n",
       "                 Summary                                               Text  \n",
       "0  Good Quality Dog Food  I have bought several of the Vitality canned d...  \n",
       "1      Not as Advertised  Product arrived labeled as Jumbo Salted Peanut...  \n",
       "2  \"Delight\" says it all  This is a confection that has been around a fe...  \n",
       "3         Cough Medicine  If you are looking for the secret ingredient i...  \n",
       "4            Great taffy  Great taffy at a great price.  There was a wid...  "
      ]
     },
     "execution_count": 5,
     "metadata": {},
     "output_type": "execute_result"
    }
   ],
   "source": [
    "df.head()"
   ]
  },
  {
   "cell_type": "code",
   "execution_count": 6,
   "id": "53e7e4e0",
   "metadata": {},
   "outputs": [
    {
     "data": {
      "image/png": "[encoded data removed]",
      "text/plain": [
       "<Figure size 500x500 with 1 Axes>"
      ]
     },
     "metadata": {},
     "output_type": "display_data"
    }
   ],
   "source": [
    "ax = df['Score'].value_counts().sort_index() \\\n",
    ".plot(kind='bar', title= 'Count of Reviews by Stars', figsize=(5,5))\n",
    "ax.set_xlabel('Review Stars')\n",
    "plt.show()"
   ]
  },
  {
   "cell_type": "code",
   "execution_count": 7,
   "id": "468b9d72",
   "metadata": {},
   "outputs": [
    {
     "name": "stdout",
     "output_type": "stream",
     "text": [
      "Got a free package of these with a bottle of bloody mary mix I bought from the seller, and the advertising worked..lol,  I tried them, and shared them with 2 buddies, and we all loved them...  So im here to buy more, and noticed there were no reviews yet,...  well now there is.  They are Hot,  but not \"burn your mouth forever hot\"  its a nice temp...  Perfect for us..\n"
     ]
    }
   ],
   "source": [
    "example = df['Text'][51]\n",
    "print(example)"
   ]
  },
  {
   "cell_type": "code",
   "execution_count": 8,
   "id": "950c5377",
   "metadata": {},
   "outputs": [
    {
     "name": "stderr",
     "output_type": "stream",
     "text": [
      "[nltk_data] Error loading punkt: <urlopen error [Errno 11001]\n",
      "[nltk_data]     getaddrinfo failed>\n"
     ]
    },
    {
     "data": {
      "text/plain": [
       "False"
      ]
     },
     "execution_count": 8,
     "metadata": {},
     "output_type": "execute_result"
    }
   ],
   "source": [
    "nltk.download('punkt')"
   ]
  },
  {
   "cell_type": "code",
   "execution_count": 9,
   "id": "640d1692",
   "metadata": {},
   "outputs": [
    {
     "name": "stdout",
     "output_type": "stream",
     "text": [
      "['Got', 'a', 'free', 'package', 'of', 'these', 'with', 'a', 'bottle', 'of', 'bloody', 'mary', 'mix', 'I', 'bought', 'from', 'the', 'seller', ',', 'and', 'the', 'advertising', 'worked', '..', 'lol', ',', 'I', 'tried', 'them', ',', 'and', 'shared', 'them', 'with', '2', 'buddies', ',', 'and', 'we', 'all', 'loved', 'them', '...', 'So', 'im', 'here', 'to', 'buy', 'more', ',', 'and', 'noticed', 'there', 'were', 'no', 'reviews', 'yet', ',', '...', 'well', 'now', 'there', 'is', '.', 'They', 'are', 'Hot', ',', 'but', 'not', '``', 'burn', 'your', 'mouth', 'forever', 'hot', \"''\", 'its', 'a', 'nice', 'temp', '...', 'Perfect', 'for', 'us', '..']\n"
     ]
    }
   ],
   "source": [
    "tokens = nltk.word_tokenize(example)\n",
    "print(tokens)"
   ]
  },
  {
   "cell_type": "code",
   "execution_count": 10,
   "id": "807602ae",
   "metadata": {},
   "outputs": [
    {
     "data": {
      "text/plain": [
       "['Got', 'a', 'free', 'package', 'of', 'these', 'with', 'a', 'bottle', 'of']"
      ]
     },
     "execution_count": 10,
     "metadata": {},
     "output_type": "execute_result"
    }
   ],
   "source": [
    "#redusing the size of tokens to 10\n",
    "tokens[:10]"
   ]
  },
  {
   "cell_type": "code",
   "execution_count": 11,
   "id": "07fa6b09",
   "metadata": {},
   "outputs": [
    {
     "name": "stderr",
     "output_type": "stream",
     "text": [
      "[nltk_data] Error loading averaged_perceptron_tagger: <urlopen error\n",
      "[nltk_data]     [Errno 11001] getaddrinfo failed>\n"
     ]
    },
    {
     "data": {
      "text/plain": [
       "False"
      ]
     },
     "execution_count": 11,
     "metadata": {},
     "output_type": "execute_result"
    }
   ],
   "source": [
    "nltk.download('averaged_perceptron_tagger')"
   ]
  },
  {
   "cell_type": "code",
   "execution_count": 12,
   "id": "7acdcfbb",
   "metadata": {},
   "outputs": [
    {
     "data": {
      "text/plain": [
       "[('Got', 'NNP'),\n",
       " ('a', 'DT'),\n",
       " ('free', 'JJ'),\n",
       " ('package', 'NN'),\n",
       " ('of', 'IN'),\n",
       " ('these', 'DT'),\n",
       " ('with', 'IN'),\n",
       " ('a', 'DT'),\n",
       " ('bottle', 'NN'),\n",
       " ('of', 'IN')]"
      ]
     },
     "execution_count": 12,
     "metadata": {},
     "output_type": "execute_result"
    }
   ],
   "source": [
    "\n",
    "# Perform part-of-speech tagging\n",
    "tagged = nltk.pos_tag(tokens)\n",
    "tagged[:10]"
   ]
  },
  {
   "cell_type": "code",
   "execution_count": 13,
   "id": "95091c6b",
   "metadata": {},
   "outputs": [
    {
     "name": "stderr",
     "output_type": "stream",
     "text": [
      "[nltk_data] Error loading maxent_ne_chunker: <urlopen error [Errno\n",
      "[nltk_data]     11001] getaddrinfo failed>\n"
     ]
    },
    {
     "data": {
      "text/plain": [
       "False"
      ]
     },
     "execution_count": 13,
     "metadata": {},
     "output_type": "execute_result"
    }
   ],
   "source": [
    "nltk.download('maxent_ne_chunker')"
   ]
  },
  {
   "cell_type": "code",
   "execution_count": 14,
   "id": "5c5ec1f2",
   "metadata": {},
   "outputs": [
    {
     "name": "stderr",
     "output_type": "stream",
     "text": [
      "[nltk_data] Error loading words: <urlopen error [Errno 11001]\n",
      "[nltk_data]     getaddrinfo failed>\n"
     ]
    },
    {
     "data": {
      "text/plain": [
       "False"
      ]
     },
     "execution_count": 14,
     "metadata": {},
     "output_type": "execute_result"
    }
   ],
   "source": [
    "nltk.download('words')"
   ]
  },
  {
   "cell_type": "code",
   "execution_count": 15,
   "id": "37aded80",
   "metadata": {},
   "outputs": [
    {
     "name": "stdout",
     "output_type": "stream",
     "text": [
      "(S\n",
      "  Got/NNP\n",
      "  a/DT\n",
      "  free/JJ\n",
      "  package/NN\n",
      "  of/IN\n",
      "  these/DT\n",
      "  with/IN\n",
      "  a/DT\n",
      "  bottle/NN\n",
      "  of/IN\n",
      "  bloody/NN\n",
      "  mary/JJ\n",
      "  mix/NN\n",
      "  I/PRP\n",
      "  bought/VBD\n",
      "  from/IN\n",
      "  the/DT\n",
      "  seller/NN\n",
      "  ,/,\n",
      "  and/CC\n",
      "  the/DT\n",
      "  advertising/NN\n",
      "  worked/VBD\n",
      "  ../JJ\n",
      "  lol/NN\n",
      "  ,/,\n",
      "  I/PRP\n",
      "  tried/VBD\n",
      "  them/PRP\n",
      "  ,/,\n",
      "  and/CC\n",
      "  shared/VBD\n",
      "  them/PRP\n",
      "  with/IN\n",
      "  2/CD\n",
      "  buddies/NNS\n",
      "  ,/,\n",
      "  and/CC\n",
      "  we/PRP\n",
      "  all/DT\n",
      "  loved/VBD\n",
      "  them/PRP\n",
      "  .../:\n",
      "  So/RB\n",
      "  im/RB\n",
      "  here/RB\n",
      "  to/TO\n",
      "  buy/VB\n",
      "  more/JJR\n",
      "  ,/,\n",
      "  and/CC\n",
      "  noticed/VBD\n",
      "  there/EX\n",
      "  were/VBD\n",
      "  no/DT\n",
      "  reviews/NN\n",
      "  yet/RB\n",
      "  ,/,\n",
      "  .../:\n",
      "  well/RB\n",
      "  now/RB\n",
      "  there/EX\n",
      "  is/VBZ\n",
      "  ./.\n",
      "  They/PRP\n",
      "  are/VBP\n",
      "  (PERSON Hot/NNP)\n",
      "  ,/,\n",
      "  but/CC\n",
      "  not/RB\n",
      "  ``/``\n",
      "  burn/VB\n",
      "  your/PRP$\n",
      "  mouth/NN\n",
      "  forever/RB\n",
      "  hot/JJ\n",
      "  ''/''\n",
      "  its/PRP$\n",
      "  a/DT\n",
      "  nice/JJ\n",
      "  temp/NN\n",
      "  .../:\n",
      "  Perfect/NNP\n",
      "  for/IN\n",
      "  us/PRP\n",
      "  ../VBP)\n"
     ]
    }
   ],
   "source": [
    "# Using prettyprint an chunk\n",
    "entities = nltk.chunk.ne_chunk(tagged)\n",
    "entities .pprint()"
   ]
  },
  {
   "cell_type": "code",
   "execution_count": 17,
   "id": "7809d0dd",
   "metadata": {},
   "outputs": [
    {
     "name": "stderr",
     "output_type": "stream",
     "text": [
      "[nltk_data] Error loading vader_lexicon: <urlopen error [Errno 11001]\n",
      "[nltk_data]     getaddrinfo failed>\n"
     ]
    }
   ],
   "source": [
    "# VADER sentiment scoring\n",
    "from nltk.sentiment import SentimentIntensityAnalyzer\n",
    "from tqdm.notebook import tqdm\n",
    "\n",
    "# Download the VADER lexicon\n",
    "nltk.download('vader_lexicon')\n",
    "\n",
    "# Create the SentimentIntensityAnalyzer\n",
    "sia = SentimentIntensityAnalyzer()"
   ]
  },
  {
   "cell_type": "code",
   "execution_count": 18,
   "id": "40df1771",
   "metadata": {},
   "outputs": [
    {
     "data": {
      "text/plain": [
       "{'neg': 0.0, 'neu': 1.0, 'pos': 0.0, 'compound': 0.0}"
      ]
     },
     "execution_count": 18,
     "metadata": {},
     "output_type": "execute_result"
    }
   ],
   "source": [
    "#Checking the polarity of Random Sentences\n",
    "sia.polarity_scores('Hi, My name is Mohawiz')"
   ]
  },
  {
   "cell_type": "code",
   "execution_count": 19,
   "id": "df30ca7a",
   "metadata": {},
   "outputs": [
    {
     "data": {
      "text/plain": [
       "{'neg': 0.376, 'neu': 0.624, 'pos': 0.0, 'compound': -0.3412}"
      ]
     },
     "execution_count": 19,
     "metadata": {},
     "output_type": "execute_result"
    }
   ],
   "source": [
    "sia.polarity_scores('this does not taste good')"
   ]
  },
  {
   "cell_type": "code",
   "execution_count": 20,
   "id": "dced2510",
   "metadata": {},
   "outputs": [
    {
     "data": {
      "text/plain": [
       "{'neg': 0.0, 'neu': 0.575, 'pos': 0.425, 'compound': 0.5719}"
      ]
     },
     "execution_count": 20,
     "metadata": {},
     "output_type": "execute_result"
    }
   ],
   "source": [
    "sia .polarity_scores(\"I am happy to buy this outfit\")\n"
   ]
  },
  {
   "cell_type": "code",
   "execution_count": 21,
   "id": "2d3ffe34",
   "metadata": {},
   "outputs": [
    {
     "name": "stdout",
     "output_type": "stream",
     "text": [
      "Got a free package of these with a bottle of bloody mary mix I bought from the seller, and the advertising worked..lol,  I tried them, and shared them with 2 buddies, and we all loved them...  So im here to buy more, and noticed there were no reviews yet,...  well now there is.  They are Hot,  but not \"burn your mouth forever hot\"  its a nice temp...  Perfect for us..\n"
     ]
    },
    {
     "data": {
      "text/plain": [
       "{'neg': 0.047, 'neu': 0.735, 'pos': 0.218, 'compound': 0.9194}"
      ]
     },
     "execution_count": 21,
     "metadata": {},
     "output_type": "execute_result"
    }
   ],
   "source": [
    "print(example)\n",
    "sia.polarity_scores(example)\n"
   ]
  },
  {
   "cell_type": "code",
   "execution_count": 19,
   "id": "84a69aca",
   "metadata": {},
   "outputs": [
    {
     "data": {
      "application/vnd.jupyter.widget-view+json": {
       "model_id": "099a2bafde9e44c985f3fe90c41e7f11",
       "version_major": 2,
       "version_minor": 0
      },
      "text/plain": [
       "  0%|          | 0/500 [00:00<?, ?it/s]"
      ]
     },
     "metadata": {},
     "output_type": "display_data"
    }
   ],
   "source": [
    "#Running the polarity scores on entire Data Set\n",
    " # creating a dict for storing result\n",
    "res = {}\n",
    "for i, row in tqdm(df.iterrows(), total=len(df)):\n",
    "    text = row['Text']\n",
    "    myid = row['Id']\n",
    "    res[myid] = sia.polarity_scores(text)\n"
   ]
  },
  {
   "cell_type": "code",
   "execution_count": 20,
   "id": "352ad1a3",
   "metadata": {},
   "outputs": [],
   "source": [
    "#storing res in pandas Dataframes .T will convert DF vertically\n",
    "vaders = pd.DataFrame(res).T\n",
    "vaders = vaders.reset_index().rename(columns={'index': 'Id'})\n",
    "vaders = vaders.merge(df, how='left')"
   ]
  },
  {
   "cell_type": "code",
   "execution_count": 33,
   "id": "82c05e0b",
   "metadata": {},
   "outputs": [
    {
     "data": {
      "text/html": [
       "<div>\n",
       "<style scoped>\n",
       "    .dataframe tbody tr th:only-of-type {\n",
       "        vertical-align: middle;\n",
       "    }\n",
       "\n",
       "    .dataframe tbody tr th {\n",
       "        vertical-align: top;\n",
       "    }\n",
       "\n",
       "    .dataframe thead th {\n",
       "        text-align: right;\n",
       "    }\n",
       "</style>\n",
       "<table border=\"1\" class=\"dataframe\">\n",
       "  <thead>\n",
       "    <tr style=\"text-align: right;\">\n",
       "      <th></th>\n",
       "      <th>Id</th>\n",
       "      <th>neg</th>\n",
       "      <th>neu</th>\n",
       "      <th>pos</th>\n",
       "      <th>compound</th>\n",
       "      <th>ProductId</th>\n",
       "      <th>UserId</th>\n",
       "      <th>ProfileName</th>\n",
       "      <th>HelpfulnessNumerator</th>\n",
       "      <th>HelpfulnessDenominator</th>\n",
       "      <th>Score</th>\n",
       "      <th>Time</th>\n",
       "      <th>Summary</th>\n",
       "      <th>Text</th>\n",
       "    </tr>\n",
       "  </thead>\n",
       "  <tbody>\n",
       "    <tr>\n",
       "      <th>0</th>\n",
       "      <td>1</td>\n",
       "      <td>0.000</td>\n",
       "      <td>0.695</td>\n",
       "      <td>0.305</td>\n",
       "      <td>0.9441</td>\n",
       "      <td>B001E4KFG0</td>\n",
       "      <td>A3SGXH7AUHU8GW</td>\n",
       "      <td>delmartian</td>\n",
       "      <td>1</td>\n",
       "      <td>1</td>\n",
       "      <td>5</td>\n",
       "      <td>1303862400</td>\n",
       "      <td>Good Quality Dog Food</td>\n",
       "      <td>I have bought several of the Vitality canned d...</td>\n",
       "    </tr>\n",
       "    <tr>\n",
       "      <th>1</th>\n",
       "      <td>2</td>\n",
       "      <td>0.138</td>\n",
       "      <td>0.862</td>\n",
       "      <td>0.000</td>\n",
       "      <td>-0.5664</td>\n",
       "      <td>B00813GRG4</td>\n",
       "      <td>A1D87F6ZCVE5NK</td>\n",
       "      <td>dll pa</td>\n",
       "      <td>0</td>\n",
       "      <td>0</td>\n",
       "      <td>1</td>\n",
       "      <td>1346976000</td>\n",
       "      <td>Not as Advertised</td>\n",
       "      <td>Product arrived labeled as Jumbo Salted Peanut...</td>\n",
       "    </tr>\n",
       "    <tr>\n",
       "      <th>2</th>\n",
       "      <td>3</td>\n",
       "      <td>0.091</td>\n",
       "      <td>0.754</td>\n",
       "      <td>0.155</td>\n",
       "      <td>0.8265</td>\n",
       "      <td>B000LQOCH0</td>\n",
       "      <td>ABXLMWJIXXAIN</td>\n",
       "      <td>Natalia Corres \"Natalia Corres\"</td>\n",
       "      <td>1</td>\n",
       "      <td>1</td>\n",
       "      <td>4</td>\n",
       "      <td>1219017600</td>\n",
       "      <td>\"Delight\" says it all</td>\n",
       "      <td>This is a confection that has been around a fe...</td>\n",
       "    </tr>\n",
       "    <tr>\n",
       "      <th>3</th>\n",
       "      <td>4</td>\n",
       "      <td>0.000</td>\n",
       "      <td>1.000</td>\n",
       "      <td>0.000</td>\n",
       "      <td>0.0000</td>\n",
       "      <td>B000UA0QIQ</td>\n",
       "      <td>A395BORC6FGVXV</td>\n",
       "      <td>Karl</td>\n",
       "      <td>3</td>\n",
       "      <td>3</td>\n",
       "      <td>2</td>\n",
       "      <td>1307923200</td>\n",
       "      <td>Cough Medicine</td>\n",
       "      <td>If you are looking for the secret ingredient i...</td>\n",
       "    </tr>\n",
       "    <tr>\n",
       "      <th>4</th>\n",
       "      <td>5</td>\n",
       "      <td>0.000</td>\n",
       "      <td>0.552</td>\n",
       "      <td>0.448</td>\n",
       "      <td>0.9468</td>\n",
       "      <td>B006K2ZZ7K</td>\n",
       "      <td>A1UQRSCLF8GW1T</td>\n",
       "      <td>Michael D. Bigham \"M. Wassir\"</td>\n",
       "      <td>0</td>\n",
       "      <td>0</td>\n",
       "      <td>5</td>\n",
       "      <td>1350777600</td>\n",
       "      <td>Great taffy</td>\n",
       "      <td>Great taffy at a great price.  There was a wid...</td>\n",
       "    </tr>\n",
       "  </tbody>\n",
       "</table>\n",
       "</div>"
      ],
      "text/plain": [
       "   Id    neg    neu    pos  compound   ProductId          UserId  \\\n",
       "0   1  0.000  0.695  0.305    0.9441  B001E4KFG0  A3SGXH7AUHU8GW   \n",
       "1   2  0.138  0.862  0.000   -0.5664  B00813GRG4  A1D87F6ZCVE5NK   \n",
       "2   3  0.091  0.754  0.155    0.8265  B000LQOCH0   ABXLMWJIXXAIN   \n",
       "3   4  0.000  1.000  0.000    0.0000  B000UA0QIQ  A395BORC6FGVXV   \n",
       "4   5  0.000  0.552  0.448    0.9468  B006K2ZZ7K  A1UQRSCLF8GW1T   \n",
       "\n",
       "                       ProfileName  HelpfulnessNumerator  \\\n",
       "0                       delmartian                     1   \n",
       "1                           dll pa                     0   \n",
       "2  Natalia Corres \"Natalia Corres\"                     1   \n",
       "3                             Karl                     3   \n",
       "4    Michael D. Bigham \"M. Wassir\"                     0   \n",
       "\n",
       "   HelpfulnessDenominator  Score        Time                Summary  \\\n",
       "0                       1      5  1303862400  Good Quality Dog Food   \n",
       "1                       0      1  1346976000      Not as Advertised   \n",
       "2                       1      4  1219017600  \"Delight\" says it all   \n",
       "3                       3      2  1307923200         Cough Medicine   \n",
       "4                       0      5  1350777600            Great taffy   \n",
       "\n",
       "                                                Text  \n",
       "0  I have bought several of the Vitality canned d...  \n",
       "1  Product arrived labeled as Jumbo Salted Peanut...  \n",
       "2  This is a confection that has been around a fe...  \n",
       "3  If you are looking for the secret ingredient i...  \n",
       "4  Great taffy at a great price.  There was a wid...  "
      ]
     },
     "execution_count": 33,
     "metadata": {},
     "output_type": "execute_result"
    }
   ],
   "source": [
    "vaders.head()"
   ]
  },
  {
   "cell_type": "code",
   "execution_count": 21,
   "id": "ea240dd8",
   "metadata": {},
   "outputs": [
    {
     "data": {
      "image/png": "[encoded data removed]",
      "text/plain": [
       "<Figure size 640x480 with 1 Axes>"
      ]
     },
     "metadata": {},
     "output_type": "display_data"
    }
   ],
   "source": [
    "ax= sns.barplot(data=vaders, x = 'Score', y='compound')\n",
    "ax.set_title('Compund Score by Amazon Star Review')\n",
    "plt.show()"
   ]
  },
  {
   "cell_type": "code",
   "execution_count": 23,
   "id": "47932194",
   "metadata": {},
   "outputs": [
    {
     "data": {
      "image/png": "[encoded data removed]",
      "text/plain": [
       "<Figure size 1200x300 with 3 Axes>"
      ]
     },
     "metadata": {},
     "output_type": "display_data"
    }
   ],
   "source": [
    "fig, axs = plt.subplots(1, 3, figsize=(12, 3))\n",
    "sns.barplot(data=vaders, x='Score', y='pos', ax=axs[0])\n",
    "sns.barplot(data=vaders, x='Score', y='neu', ax=axs[1])\n",
    "sns.barplot(data=vaders, x='Score', y='neg', ax=axs[2])\n",
    "axs[0].set_title('Positive')\n",
    "axs[1].set_title('Neutral')\n",
    "axs[2].set_title('Negative')\n",
    "plt.tight_layout()\n",
    "plt.show()"
   ]
  },
  {
   "cell_type": "code",
   "execution_count": 22,
   "id": "6b0e3f83",
   "metadata": {},
   "outputs": [],
   "source": [
    "#The Transformers library by Hugging Face provides pre-trained models for natural language processing tasks, such as text generation, translation, sentiment analysis, and more\n",
    "from transformers import AutoTokenizer\n",
    "from transformers import AutoModelForSequenceClassification\n",
    "from scipy.special import softmax"
   ]
  },
  {
   "cell_type": "code",
   "execution_count": 24,
   "id": "237931fa",
   "metadata": {},
   "outputs": [
    {
     "name": "stdout",
     "output_type": "stream",
     "text": [
      "WARNING:tensorflow:From C:\\Users\\MMS\\anaconda3\\Lib\\site-packages\\keras\\src\\losses.py:2976: The name tf.losses.sparse_softmax_cross_entropy is deprecated. Please use tf.compat.v1.losses.sparse_softmax_cross_entropy instead.\n",
      "\n"
     ]
    },
    {
     "name": "stderr",
     "output_type": "stream",
     "text": [
      "No model was supplied, defaulted to distilbert-base-uncased-finetuned-sst-2-english and revision af0f99b (https://huggingface.co/distilbert-base-uncased-finetuned-sst-2-english).\n",
      "Using a pipeline without specifying a model name and revision in production is not recommended.\n"
     ]
    }
   ],
   "source": [
    "from transformers import pipeline\n",
    "\n",
    "sent_pipeline = pipeline(\"sentiment-analysis\")"
   ]
  },
  {
   "cell_type": "code",
   "execution_count": 25,
   "id": "38fad4b3",
   "metadata": {},
   "outputs": [
    {
     "data": {
      "text/plain": [
       "[{'label': 'POSITIVE', 'score': 0.998372495174408}]"
      ]
     },
     "execution_count": 25,
     "metadata": {},
     "output_type": "execute_result"
    }
   ],
   "source": [
    "sent_pipeline('its seems that python is interesting After All')"
   ]
  },
  {
   "cell_type": "code",
   "execution_count": 26,
   "id": "a967681f-cb29-4120-9c0d-e8401956e229",
   "metadata": {},
   "outputs": [
    {
     "data": {
      "text/plain": [
       "[{'label': 'POSITIVE', 'score': 0.9998455047607422}]"
      ]
     },
     "execution_count": 26,
     "metadata": {},
     "output_type": "execute_result"
    }
   ],
   "source": [
    "sent_pipeline('I love My MOM')"
   ]
  },
  {
   "cell_type": "code",
   "execution_count": 57,
   "id": "eabe02c0-38c8-4fd9-bcb4-5fda615abdbe",
   "metadata": {},
   "outputs": [
    {
     "data": {
      "text/plain": [
       "[{'label': 'NEGATIVE', 'score': 0.9994953870773315}]"
      ]
     },
     "execution_count": 57,
     "metadata": {},
     "output_type": "execute_result"
    }
   ],
   "source": [
    "sent_pipeline('Its too cold outside')"
   ]
  },
  {
   "cell_type": "code",
   "execution_count": 27,
   "id": "21fa5478-f12b-4f06-b18e-dc0903339414",
   "metadata": {},
   "outputs": [
    {
     "name": "stdout",
     "output_type": "stream",
     "text": [
      "Got a free package of these with a bottle of bloody mary mix I bought from the seller, and the advertising worked..lol,  I tried them, and shared them with 2 buddies, and we all loved them...  So im here to buy more, and noticed there were no reviews yet,...  well now there is.  They are Hot,  but not \"burn your mouth forever hot\"  its a nice temp...  Perfect for us..\n"
     ]
    }
   ],
   "source": [
    "print(example)"
   ]
  },
  {
   "cell_type": "code",
   "execution_count": 39,
   "id": "a2af8aad-3c33-424f-a6d9-d75511230b57",
   "metadata": {},
   "outputs": [
    {
     "data": {
      "text/plain": [
       "[{'label': 'NEGATIVE', 'score': 0.9710894823074341}]"
      ]
     },
     "execution_count": 39,
     "metadata": {},
     "output_type": "execute_result"
    }
   ],
   "source": [
    "sent_pipeline('exapmle')"
   ]
  },
  {
   "cell_type": "code",
   "execution_count": 28,
   "id": "4360f791-78eb-4119-95dd-8533226abf03",
   "metadata": {},
   "outputs": [],
   "source": [
    "#pipeline is designed to handle batch. You can provide it with the list of texts\n",
    "texts = [\"I love using transformers!\", \"This is not very good.\"]\n",
    "results = sent_pipeline(texts)"
   ]
  },
  {
   "cell_type": "code",
   "execution_count": 39,
   "id": "bfa86a89-7218-44e3-b5a2-e4149b9ad9ba",
   "metadata": {},
   "outputs": [
    {
     "data": {
      "text/plain": [
       "[{'label': 'POSITIVE', 'score': 0.9992697834968567},\n",
       " {'label': 'POSITIVE', 'score': 0.9688601493835449},\n",
       " {'label': 'POSITIVE', 'score': 0.9998708963394165},\n",
       " {'label': 'POSITIVE', 'score': 0.9995959401130676},\n",
       " {'label': 'NEGATIVE', 'score': 0.9993558526039124}]"
      ]
     },
     "execution_count": 39,
     "metadata": {},
     "output_type": "execute_result"
    }
   ],
   "source": [
    "#importing certain texts from DATFRAME to determine the accuracy of the results \n",
    "test = [\n",
    "    \"My daughter loves twizzlers and this shipment of six pounds really hit the spot. It's exactly what you would expect...six packages of strawberry twizzlers.\",\n",
    "    \"I love eating them and they are good for watching TV and looking at movies! It is not too sweet. I like to transfer them to a zip lock baggie so they stay fresh so I can take my time eating them.\",\n",
    "    \"I am very satisfied with my Twizzler purchase. I shared these with others and we have all enjoyed them. I will definitely be ordering more.\",\n",
    "    \"I can remember buying this candy as a kid and the quality hasn't dropped in all these years. Still a superb product you won't be disappointed with.\",\n",
    "    \"The candy is just red, No flavor. Just plain and chewy. I would never buy them again.\"\n",
    "]\n",
    "\n",
    "Answer = sent_pipeline(test)\n",
    "\n",
    "Answer"
   ]
  },
  {
   "cell_type": "code",
   "execution_count": 36,
   "id": "f2b7a474-7e69-4ca9-8b20-9c29a81bdad3",
   "metadata": {},
   "outputs": [
    {
     "name": "stdout",
     "output_type": "stream",
     "text": [
      "Text: My daughter loves twizzlers and this shipment of six pounds really hit the spot. It's exactly what you would expect...six packages of strawberry twizzlers.\n",
      "Sentiment: POSITIVE\n",
      "Score: 0.9992697834968567\n",
      "\n",
      "Text: I love eating them and they are good for watching TV and looking at movies! It is not too sweet. I like to transfer them to a zip lock baggie so they stay fresh so I can take my time eating them.\n",
      "Sentiment: POSITIVE\n",
      "Score: 0.9688601493835449\n",
      "\n",
      "Text: I am very satisfied with my Twizzler purchase. I shared these with others and we have all enjoyed them. I will definitely be ordering more.\n",
      "Sentiment: POSITIVE\n",
      "Score: 0.9998708963394165\n",
      "\n",
      "Text: I can remember buying this candy as a kid and the quality hasn't dropped in all these years. Still a superb product you won't be disappointed with.\n",
      "Sentiment: POSITIVE\n",
      "Score: 0.9995959401130676\n",
      "\n",
      "Text: The candy is just red, No flavor. Just plain and chewy. I would never buy them again.\n",
      "Sentiment: NEGATIVE\n",
      "Score: 0.9993558526039124\n",
      "\n"
     ]
    }
   ],
   "source": []
  },
  {
   "cell_type": "code",
   "execution_count": 29,
   "id": "2a20092c-acc5-4e76-a662-f040adc8a7b8",
   "metadata": {},
   "outputs": [
    {
     "name": "stderr",
     "output_type": "stream",
     "text": [
      " 16%|█▋        | 82/500 [00:20<01:23,  5.02it/s]Token indices sequence length is longer than the specified maximum sequence length for this model (582 > 512). Running this sequence through the model will result in indexing errors\n",
      " 17%|█▋        | 83/500 [00:21<04:31,  1.54it/s]"
     ]
    },
    {
     "name": "stdout",
     "output_type": "stream",
     "text": [
      "Broke for id 83\n"
     ]
    },
    {
     "name": "stderr",
     "output_type": "stream",
     "text": [
      " 38%|███▊      | 188/500 [00:50<00:47,  6.58it/s]"
     ]
    },
    {
     "name": "stdout",
     "output_type": "stream",
     "text": [
      "Broke for id 187\n"
     ]
    },
    {
     "name": "stderr",
     "output_type": "stream",
     "text": [
      "100%|██████████| 500/500 [02:04<00:00,  4.01it/s]\n"
     ]
    }
   ],
   "source": [
    "from tqdm import tqdm\n",
    "\n",
    "pip = {} \n",
    "\n",
    "for i, row in tqdm(df.iterrows(), total=len(df)):\n",
    "    try:\n",
    "        text = row['Text']\n",
    "        myid = row['Id']\n",
    "        pip[myid] = sent_pipeline(text)\n",
    "    except RuntimeError:\n",
    "        print(f'Broke for id {myid}')\n",
    "            "
   ]
  },
  {
   "cell_type": "code",
   "execution_count": 41,
   "id": "c98d641a-df3a-4327-b4f1-9ca442987e36",
   "metadata": {},
   "outputs": [
    {
     "name": "stdout",
     "output_type": "stream",
     "text": [
      "Results:\n",
      "ID: 1, Sentiment: [{'label': 'POSITIVE', 'score': 0.9983851909637451}]\n",
      "ID: 2, Sentiment: [{'label': 'NEGATIVE', 'score': 0.9995254278182983}]\n",
      "ID: 3, Sentiment: [{'label': 'POSITIVE', 'score': 0.9997652173042297}]\n",
      "ID: 4, Sentiment: [{'label': 'POSITIVE', 'score': 0.9991534948348999}]\n",
      "ID: 5, Sentiment: [{'label': 'POSITIVE', 'score': 0.9987082481384277}]\n",
      "ID: 6, Sentiment: [{'label': 'POSITIVE', 'score': 0.9992551207542419}]\n",
      "ID: 7, Sentiment: [{'label': 'POSITIVE', 'score': 0.9993639588356018}]\n",
      "ID: 8, Sentiment: [{'label': 'POSITIVE', 'score': 0.9998829364776611}]\n",
      "ID: 9, Sentiment: [{'label': 'POSITIVE', 'score': 0.9985174536705017}]\n",
      "ID: 10, Sentiment: [{'label': 'POSITIVE', 'score': 0.9994561076164246}]\n",
      "ID: 11, Sentiment: [{'label': 'POSITIVE', 'score': 0.9361911416053772}]\n",
      "ID: 12, Sentiment: [{'label': 'NEGATIVE', 'score': 0.9992430210113525}]\n",
      "ID: 13, Sentiment: [{'label': 'NEGATIVE', 'score': 0.9899449944496155}]\n",
      "ID: 14, Sentiment: [{'label': 'POSITIVE', 'score': 0.9998890161514282}]\n",
      "ID: 15, Sentiment: [{'label': 'POSITIVE', 'score': 0.9976365566253662}]\n",
      "ID: 16, Sentiment: [{'label': 'POSITIVE', 'score': 0.9992697834968567}]\n",
      "ID: 17, Sentiment: [{'label': 'POSITIVE', 'score': 0.9688601493835449}]\n",
      "ID: 18, Sentiment: [{'label': 'POSITIVE', 'score': 0.9998708963394165}]\n",
      "ID: 19, Sentiment: [{'label': 'NEGATIVE', 'score': 0.8231334090232849}]\n",
      "ID: 20, Sentiment: [{'label': 'POSITIVE', 'score': 0.9976370334625244}]\n",
      "ID: 21, Sentiment: [{'label': 'POSITIVE', 'score': 0.9998146891593933}]\n",
      "ID: 22, Sentiment: [{'label': 'POSITIVE', 'score': 0.9996742010116577}]\n",
      "ID: 23, Sentiment: [{'label': 'POSITIVE', 'score': 0.9995959401130676}]\n",
      "ID: 24, Sentiment: [{'label': 'POSITIVE', 'score': 0.9991275668144226}]\n",
      "ID: 25, Sentiment: [{'label': 'POSITIVE', 'score': 0.9971465468406677}]\n",
      "ID: 26, Sentiment: [{'label': 'NEGATIVE', 'score': 0.9962425231933594}]\n",
      "ID: 27, Sentiment: [{'label': 'NEGATIVE', 'score': 0.9988172650337219}]\n",
      "ID: 28, Sentiment: [{'label': 'NEGATIVE', 'score': 0.5259752869606018}]\n",
      "ID: 29, Sentiment: [{'label': 'POSITIVE', 'score': 0.9997897744178772}]\n",
      "ID: 30, Sentiment: [{'label': 'POSITIVE', 'score': 0.9361911416053772}]\n",
      "ID: 31, Sentiment: [{'label': 'POSITIVE', 'score': 0.9846732020378113}]\n",
      "ID: 32, Sentiment: [{'label': 'POSITIVE', 'score': 0.9996780157089233}]\n",
      "ID: 33, Sentiment: [{'label': 'POSITIVE', 'score': 0.8532596230506897}]\n",
      "ID: 34, Sentiment: [{'label': 'POSITIVE', 'score': 0.9988853335380554}]\n",
      "ID: 35, Sentiment: [{'label': 'POSITIVE', 'score': 0.9994702935218811}]\n",
      "ID: 36, Sentiment: [{'label': 'POSITIVE', 'score': 0.999298095703125}]\n",
      "ID: 37, Sentiment: [{'label': 'POSITIVE', 'score': 0.998975396156311}]\n",
      "ID: 38, Sentiment: [{'label': 'NEGATIVE', 'score': 0.9933993816375732}]\n",
      "ID: 39, Sentiment: [{'label': 'POSITIVE', 'score': 0.9968936443328857}]\n",
      "ID: 40, Sentiment: [{'label': 'POSITIVE', 'score': 0.9997797608375549}]\n",
      "ID: 41, Sentiment: [{'label': 'POSITIVE', 'score': 0.9979168772697449}]\n",
      "ID: 42, Sentiment: [{'label': 'POSITIVE', 'score': 0.9964499473571777}]\n",
      "ID: 43, Sentiment: [{'label': 'POSITIVE', 'score': 0.9996805191040039}]\n",
      "ID: 44, Sentiment: [{'label': 'POSITIVE', 'score': 0.9993491768836975}]\n",
      "ID: 45, Sentiment: [{'label': 'POSITIVE', 'score': 0.9912444949150085}]\n",
      "ID: 46, Sentiment: [{'label': 'NEGATIVE', 'score': 0.9996598958969116}]\n",
      "ID: 47, Sentiment: [{'label': 'POSITIVE', 'score': 0.9979078769683838}]\n",
      "ID: 48, Sentiment: [{'label': 'POSITIVE', 'score': 0.9993141889572144}]\n",
      "ID: 49, Sentiment: [{'label': 'POSITIVE', 'score': 0.9998181462287903}]\n",
      "ID: 50, Sentiment: [{'label': 'NEGATIVE', 'score': 0.9991084933280945}]\n",
      "ID: 51, Sentiment: [{'label': 'NEGATIVE', 'score': 0.9994776844978333}]\n",
      "ID: 52, Sentiment: [{'label': 'POSITIVE', 'score': 0.9830999374389648}]\n",
      "ID: 53, Sentiment: [{'label': 'NEGATIVE', 'score': 0.9990749359130859}]\n",
      "ID: 54, Sentiment: [{'label': 'NEGATIVE', 'score': 0.9988093376159668}]\n",
      "ID: 55, Sentiment: [{'label': 'POSITIVE', 'score': 0.9994155168533325}]\n",
      "ID: 56, Sentiment: [{'label': 'POSITIVE', 'score': 0.9996781349182129}]\n",
      "ID: 57, Sentiment: [{'label': 'POSITIVE', 'score': 0.9941144585609436}]\n",
      "ID: 58, Sentiment: [{'label': 'POSITIVE', 'score': 0.9998553991317749}]\n",
      "ID: 59, Sentiment: [{'label': 'POSITIVE', 'score': 0.9998537302017212}]\n",
      "ID: 60, Sentiment: [{'label': 'POSITIVE', 'score': 0.999836802482605}]\n",
      "ID: 61, Sentiment: [{'label': 'NEGATIVE', 'score': 0.9984140396118164}]\n",
      "ID: 62, Sentiment: [{'label': 'NEGATIVE', 'score': 0.7944881319999695}]\n",
      "ID: 63, Sentiment: [{'label': 'NEGATIVE', 'score': 0.9997138381004333}]\n",
      "ID: 64, Sentiment: [{'label': 'POSITIVE', 'score': 0.9967356324195862}]\n",
      "ID: 65, Sentiment: [{'label': 'POSITIVE', 'score': 0.99346524477005}]\n",
      "ID: 66, Sentiment: [{'label': 'POSITIVE', 'score': 0.9997692704200745}]\n",
      "ID: 67, Sentiment: [{'label': 'POSITIVE', 'score': 0.9693400859832764}]\n",
      "ID: 68, Sentiment: [{'label': 'NEGATIVE', 'score': 0.9936648607254028}]\n",
      "ID: 69, Sentiment: [{'label': 'NEGATIVE', 'score': 0.9428929090499878}]\n",
      "ID: 70, Sentiment: [{'label': 'NEGATIVE', 'score': 0.9980344176292419}]\n",
      "ID: 71, Sentiment: [{'label': 'NEGATIVE', 'score': 0.5278960466384888}]\n",
      "ID: 72, Sentiment: [{'label': 'POSITIVE', 'score': 0.9994820952415466}]\n",
      "ID: 73, Sentiment: [{'label': 'POSITIVE', 'score': 0.9998462200164795}]\n",
      "ID: 74, Sentiment: [{'label': 'NEGATIVE', 'score': 0.992121696472168}]\n",
      "ID: 75, Sentiment: [{'label': 'POSITIVE', 'score': 0.9994617104530334}]\n",
      "ID: 76, Sentiment: [{'label': 'NEGATIVE', 'score': 0.9995638728141785}]\n",
      "ID: 77, Sentiment: [{'label': 'POSITIVE', 'score': 0.9968352913856506}]\n",
      "ID: 78, Sentiment: [{'label': 'POSITIVE', 'score': 0.9996223449707031}]\n",
      "ID: 79, Sentiment: [{'label': 'POSITIVE', 'score': 0.9975172281265259}]\n",
      "ID: 80, Sentiment: [{'label': 'POSITIVE', 'score': 0.999032735824585}]\n",
      "ID: 81, Sentiment: [{'label': 'POSITIVE', 'score': 0.9998800754547119}]\n",
      "ID: 82, Sentiment: [{'label': 'POSITIVE', 'score': 0.9820190668106079}]\n",
      "ID: 84, Sentiment: [{'label': 'POSITIVE', 'score': 0.9809134602546692}]\n",
      "ID: 85, Sentiment: [{'label': 'NEGATIVE', 'score': 0.9484342932701111}]\n",
      "ID: 86, Sentiment: [{'label': 'POSITIVE', 'score': 0.9997616410255432}]\n",
      "ID: 87, Sentiment: [{'label': 'POSITIVE', 'score': 0.9993280172348022}]\n",
      "ID: 88, Sentiment: [{'label': 'POSITIVE', 'score': 0.9976242184638977}]\n",
      "ID: 89, Sentiment: [{'label': 'POSITIVE', 'score': 0.9901008605957031}]\n",
      "ID: 90, Sentiment: [{'label': 'POSITIVE', 'score': 0.9997630715370178}]\n",
      "ID: 91, Sentiment: [{'label': 'POSITIVE', 'score': 0.9996042847633362}]\n",
      "ID: 92, Sentiment: [{'label': 'NEGATIVE', 'score': 0.9812536835670471}]\n",
      "ID: 93, Sentiment: [{'label': 'POSITIVE', 'score': 0.9998302459716797}]\n",
      "ID: 94, Sentiment: [{'label': 'POSITIVE', 'score': 0.9992081522941589}]\n",
      "ID: 95, Sentiment: [{'label': 'NEGATIVE', 'score': 0.9971006512641907}]\n",
      "ID: 96, Sentiment: [{'label': 'POSITIVE', 'score': 0.9968758821487427}]\n",
      "ID: 97, Sentiment: [{'label': 'POSITIVE', 'score': 0.9960275888442993}]\n",
      "ID: 98, Sentiment: [{'label': 'POSITIVE', 'score': 0.9941044449806213}]\n",
      "ID: 99, Sentiment: [{'label': 'NEGATIVE', 'score': 0.9766538739204407}]\n",
      "ID: 100, Sentiment: [{'label': 'NEGATIVE', 'score': 0.995214581489563}]\n",
      "ID: 101, Sentiment: [{'label': 'NEGATIVE', 'score': 0.9944590330123901}]\n",
      "ID: 102, Sentiment: [{'label': 'NEGATIVE', 'score': 0.7782718539237976}]\n",
      "ID: 103, Sentiment: [{'label': 'NEGATIVE', 'score': 0.8498956561088562}]\n",
      "ID: 104, Sentiment: [{'label': 'POSITIVE', 'score': 0.9840630292892456}]\n",
      "ID: 105, Sentiment: [{'label': 'POSITIVE', 'score': 0.9997087121009827}]\n",
      "ID: 106, Sentiment: [{'label': 'POSITIVE', 'score': 0.9996108412742615}]\n",
      "ID: 107, Sentiment: [{'label': 'NEGATIVE', 'score': 0.9995409250259399}]\n",
      "ID: 108, Sentiment: [{'label': 'POSITIVE', 'score': 0.9972037076950073}]\n",
      "ID: 109, Sentiment: [{'label': 'POSITIVE', 'score': 0.9955293536186218}]\n",
      "ID: 110, Sentiment: [{'label': 'POSITIVE', 'score': 0.9990881681442261}]\n",
      "ID: 111, Sentiment: [{'label': 'POSITIVE', 'score': 0.7099452614784241}]\n",
      "ID: 112, Sentiment: [{'label': 'POSITIVE', 'score': 0.9995027780532837}]\n",
      "ID: 113, Sentiment: [{'label': 'POSITIVE', 'score': 0.5514605641365051}]\n",
      "ID: 114, Sentiment: [{'label': 'POSITIVE', 'score': 0.9998267292976379}]\n",
      "ID: 115, Sentiment: [{'label': 'POSITIVE', 'score': 0.9994250535964966}]\n",
      "ID: 116, Sentiment: [{'label': 'POSITIVE', 'score': 0.9997128844261169}]\n",
      "ID: 117, Sentiment: [{'label': 'POSITIVE', 'score': 0.9997335076332092}]\n",
      "ID: 118, Sentiment: [{'label': 'POSITIVE', 'score': 0.9998195767402649}]\n",
      "ID: 119, Sentiment: [{'label': 'NEGATIVE', 'score': 0.9932397603988647}]\n",
      "ID: 120, Sentiment: [{'label': 'POSITIVE', 'score': 0.9988101720809937}]\n",
      "ID: 121, Sentiment: [{'label': 'POSITIVE', 'score': 0.9989533424377441}]\n",
      "ID: 122, Sentiment: [{'label': 'NEGATIVE', 'score': 0.9967911839485168}]\n",
      "ID: 123, Sentiment: [{'label': 'POSITIVE', 'score': 0.9922398328781128}]\n",
      "ID: 124, Sentiment: [{'label': 'POSITIVE', 'score': 0.9946994781494141}]\n",
      "ID: 125, Sentiment: [{'label': 'POSITIVE', 'score': 0.9930735230445862}]\n",
      "ID: 126, Sentiment: [{'label': 'NEGATIVE', 'score': 0.9831328988075256}]\n",
      "ID: 127, Sentiment: [{'label': 'POSITIVE', 'score': 0.9996141195297241}]\n",
      "ID: 128, Sentiment: [{'label': 'POSITIVE', 'score': 0.616409182548523}]\n",
      "ID: 129, Sentiment: [{'label': 'POSITIVE', 'score': 0.9997926354408264}]\n",
      "ID: 130, Sentiment: [{'label': 'NEGATIVE', 'score': 0.9963968396186829}]\n",
      "ID: 131, Sentiment: [{'label': 'POSITIVE', 'score': 0.9995040893554688}]\n",
      "ID: 132, Sentiment: [{'label': 'NEGATIVE', 'score': 0.9976428151130676}]\n",
      "ID: 133, Sentiment: [{'label': 'POSITIVE', 'score': 0.9816909432411194}]\n",
      "ID: 134, Sentiment: [{'label': 'POSITIVE', 'score': 0.9974901676177979}]\n",
      "ID: 135, Sentiment: [{'label': 'POSITIVE', 'score': 0.9994887113571167}]\n",
      "ID: 136, Sentiment: [{'label': 'NEGATIVE', 'score': 0.9943616390228271}]\n",
      "ID: 137, Sentiment: [{'label': 'POSITIVE', 'score': 0.9991340041160583}]\n",
      "ID: 138, Sentiment: [{'label': 'POSITIVE', 'score': 0.9997684359550476}]\n",
      "ID: 139, Sentiment: [{'label': 'POSITIVE', 'score': 0.9994801878929138}]\n",
      "ID: 140, Sentiment: [{'label': 'POSITIVE', 'score': 0.9943555593490601}]\n",
      "ID: 141, Sentiment: [{'label': 'NEGATIVE', 'score': 0.9989237189292908}]\n",
      "ID: 142, Sentiment: [{'label': 'NEGATIVE', 'score': 0.9656115174293518}]\n",
      "ID: 143, Sentiment: [{'label': 'POSITIVE', 'score': 0.9977263808250427}]\n",
      "ID: 144, Sentiment: [{'label': 'POSITIVE', 'score': 0.9997280240058899}]\n",
      "ID: 145, Sentiment: [{'label': 'NEGATIVE', 'score': 0.9997332692146301}]\n",
      "ID: 146, Sentiment: [{'label': 'POSITIVE', 'score': 0.9996594190597534}]\n",
      "ID: 147, Sentiment: [{'label': 'NEGATIVE', 'score': 0.9987447261810303}]\n",
      "ID: 148, Sentiment: [{'label': 'NEGATIVE', 'score': 0.9961658716201782}]\n",
      "ID: 149, Sentiment: [{'label': 'POSITIVE', 'score': 0.9978185892105103}]\n",
      "ID: 150, Sentiment: [{'label': 'POSITIVE', 'score': 0.9997032284736633}]\n",
      "ID: 151, Sentiment: [{'label': 'POSITIVE', 'score': 0.9997960925102234}]\n",
      "ID: 152, Sentiment: [{'label': 'POSITIVE', 'score': 0.9889601469039917}]\n",
      "ID: 153, Sentiment: [{'label': 'POSITIVE', 'score': 0.9996815919876099}]\n",
      "ID: 154, Sentiment: [{'label': 'NEGATIVE', 'score': 0.999510645866394}]\n",
      "ID: 155, Sentiment: [{'label': 'POSITIVE', 'score': 0.9998469352722168}]\n",
      "ID: 156, Sentiment: [{'label': 'POSITIVE', 'score': 0.9991241097450256}]\n",
      "ID: 157, Sentiment: [{'label': 'POSITIVE', 'score': 0.9706883430480957}]\n",
      "ID: 158, Sentiment: [{'label': 'POSITIVE', 'score': 0.9997277855873108}]\n",
      "ID: 159, Sentiment: [{'label': 'NEGATIVE', 'score': 0.9228246212005615}]\n",
      "ID: 160, Sentiment: [{'label': 'NEGATIVE', 'score': 0.9907034635543823}]\n",
      "ID: 161, Sentiment: [{'label': 'POSITIVE', 'score': 0.9998238682746887}]\n",
      "ID: 162, Sentiment: [{'label': 'NEGATIVE', 'score': 0.9988621473312378}]\n",
      "ID: 163, Sentiment: [{'label': 'NEGATIVE', 'score': 0.9590995907783508}]\n",
      "ID: 164, Sentiment: [{'label': 'POSITIVE', 'score': 0.9984739422798157}]\n",
      "ID: 165, Sentiment: [{'label': 'NEGATIVE', 'score': 0.9689644575119019}]\n",
      "ID: 166, Sentiment: [{'label': 'POSITIVE', 'score': 0.9992547631263733}]\n",
      "ID: 167, Sentiment: [{'label': 'POSITIVE', 'score': 0.9998489618301392}]\n",
      "ID: 168, Sentiment: [{'label': 'NEGATIVE', 'score': 0.9995507597923279}]\n",
      "ID: 169, Sentiment: [{'label': 'NEGATIVE', 'score': 0.9993264675140381}]\n",
      "ID: 170, Sentiment: [{'label': 'NEGATIVE', 'score': 0.9987815022468567}]\n",
      "ID: 171, Sentiment: [{'label': 'NEGATIVE', 'score': 0.6861352324485779}]\n",
      "ID: 172, Sentiment: [{'label': 'POSITIVE', 'score': 0.9994447827339172}]\n",
      "ID: 173, Sentiment: [{'label': 'POSITIVE', 'score': 0.9997451901435852}]\n",
      "ID: 174, Sentiment: [{'label': 'POSITIVE', 'score': 0.9991533756256104}]\n",
      "ID: 175, Sentiment: [{'label': 'POSITIVE', 'score': 0.9456064105033875}]\n",
      "ID: 176, Sentiment: [{'label': 'POSITIVE', 'score': 0.9994175434112549}]\n",
      "ID: 177, Sentiment: [{'label': 'POSITIVE', 'score': 0.9990071654319763}]\n",
      "ID: 178, Sentiment: [{'label': 'POSITIVE', 'score': 0.9982870221138}]\n",
      "ID: 179, Sentiment: [{'label': 'POSITIVE', 'score': 0.999447762966156}]\n",
      "ID: 180, Sentiment: [{'label': 'POSITIVE', 'score': 0.9992243051528931}]\n",
      "ID: 181, Sentiment: [{'label': 'NEGATIVE', 'score': 0.9778581261634827}]\n",
      "ID: 182, Sentiment: [{'label': 'POSITIVE', 'score': 0.9998774528503418}]\n",
      "ID: 183, Sentiment: [{'label': 'POSITIVE', 'score': 0.9455761909484863}]\n",
      "ID: 184, Sentiment: [{'label': 'POSITIVE', 'score': 0.9980668425559998}]\n",
      "ID: 185, Sentiment: [{'label': 'POSITIVE', 'score': 0.9985130429267883}]\n",
      "ID: 186, Sentiment: [{'label': 'NEGATIVE', 'score': 0.9990496039390564}]\n",
      "ID: 188, Sentiment: [{'label': 'POSITIVE', 'score': 0.9710932970046997}]\n",
      "ID: 189, Sentiment: [{'label': 'POSITIVE', 'score': 0.9949093461036682}]\n",
      "ID: 190, Sentiment: [{'label': 'POSITIVE', 'score': 0.9995301961898804}]\n",
      "ID: 191, Sentiment: [{'label': 'POSITIVE', 'score': 0.9998537302017212}]\n",
      "ID: 192, Sentiment: [{'label': 'POSITIVE', 'score': 0.9969857335090637}]\n",
      "ID: 193, Sentiment: [{'label': 'POSITIVE', 'score': 0.9993858337402344}]\n",
      "ID: 194, Sentiment: [{'label': 'POSITIVE', 'score': 0.9998124241828918}]\n",
      "ID: 195, Sentiment: [{'label': 'NEGATIVE', 'score': 0.9555226564407349}]\n",
      "ID: 196, Sentiment: [{'label': 'POSITIVE', 'score': 0.9953944683074951}]\n",
      "ID: 197, Sentiment: [{'label': 'NEGATIVE', 'score': 0.990047812461853}]\n",
      "ID: 198, Sentiment: [{'label': 'NEGATIVE', 'score': 0.996526300907135}]\n",
      "ID: 199, Sentiment: [{'label': 'POSITIVE', 'score': 0.9997742772102356}]\n",
      "ID: 200, Sentiment: [{'label': 'POSITIVE', 'score': 0.9989084005355835}]\n",
      "ID: 201, Sentiment: [{'label': 'NEGATIVE', 'score': 0.9996451139450073}]\n",
      "ID: 202, Sentiment: [{'label': 'POSITIVE', 'score': 0.9995642304420471}]\n",
      "ID: 203, Sentiment: [{'label': 'POSITIVE', 'score': 0.9308072328567505}]\n",
      "ID: 204, Sentiment: [{'label': 'NEGATIVE', 'score': 0.7713242173194885}]\n",
      "ID: 205, Sentiment: [{'label': 'POSITIVE', 'score': 0.9934670329093933}]\n",
      "ID: 206, Sentiment: [{'label': 'POSITIVE', 'score': 0.9997374415397644}]\n",
      "ID: 207, Sentiment: [{'label': 'POSITIVE', 'score': 0.9998108744621277}]\n",
      "ID: 208, Sentiment: [{'label': 'POSITIVE', 'score': 0.9998725652694702}]\n",
      "ID: 209, Sentiment: [{'label': 'NEGATIVE', 'score': 0.9632772207260132}]\n",
      "ID: 210, Sentiment: [{'label': 'POSITIVE', 'score': 0.9887095093727112}]\n",
      "ID: 211, Sentiment: [{'label': 'POSITIVE', 'score': 0.9817585945129395}]\n",
      "ID: 212, Sentiment: [{'label': 'NEGATIVE', 'score': 0.9846029281616211}]\n",
      "ID: 213, Sentiment: [{'label': 'NEGATIVE', 'score': 0.9996079802513123}]\n",
      "ID: 214, Sentiment: [{'label': 'NEGATIVE', 'score': 0.9995157718658447}]\n",
      "ID: 215, Sentiment: [{'label': 'POSITIVE', 'score': 0.9985058307647705}]\n",
      "ID: 216, Sentiment: [{'label': 'POSITIVE', 'score': 0.9956321120262146}]\n",
      "ID: 217, Sentiment: [{'label': 'NEGATIVE', 'score': 0.9989571571350098}]\n",
      "ID: 218, Sentiment: [{'label': 'POSITIVE', 'score': 0.905041515827179}]\n",
      "ID: 219, Sentiment: [{'label': 'POSITIVE', 'score': 0.9988378882408142}]\n",
      "ID: 220, Sentiment: [{'label': 'POSITIVE', 'score': 0.999517560005188}]\n",
      "ID: 221, Sentiment: [{'label': 'POSITIVE', 'score': 0.9985698461532593}]\n",
      "ID: 222, Sentiment: [{'label': 'POSITIVE', 'score': 0.9987867474555969}]\n",
      "ID: 223, Sentiment: [{'label': 'POSITIVE', 'score': 0.9997486472129822}]\n",
      "ID: 224, Sentiment: [{'label': 'POSITIVE', 'score': 0.999862790107727}]\n",
      "ID: 225, Sentiment: [{'label': 'NEGATIVE', 'score': 0.9992654919624329}]\n",
      "ID: 226, Sentiment: [{'label': 'NEGATIVE', 'score': 0.7520132660865784}]\n",
      "ID: 227, Sentiment: [{'label': 'POSITIVE', 'score': 0.9990498423576355}]\n",
      "ID: 228, Sentiment: [{'label': 'POSITIVE', 'score': 0.997413694858551}]\n",
      "ID: 229, Sentiment: [{'label': 'NEGATIVE', 'score': 0.9887644052505493}]\n",
      "ID: 230, Sentiment: [{'label': 'NEGATIVE', 'score': 0.9989424347877502}]\n",
      "ID: 231, Sentiment: [{'label': 'POSITIVE', 'score': 0.9997567534446716}]\n",
      "ID: 232, Sentiment: [{'label': 'POSITIVE', 'score': 0.9940260648727417}]\n",
      "ID: 233, Sentiment: [{'label': 'POSITIVE', 'score': 0.9997686743736267}]\n",
      "ID: 234, Sentiment: [{'label': 'NEGATIVE', 'score': 0.9950335025787354}]\n",
      "ID: 235, Sentiment: [{'label': 'POSITIVE', 'score': 0.9997504353523254}]\n",
      "ID: 236, Sentiment: [{'label': 'NEGATIVE', 'score': 0.9996669292449951}]\n",
      "ID: 237, Sentiment: [{'label': 'POSITIVE', 'score': 0.9984405636787415}]\n",
      "ID: 238, Sentiment: [{'label': 'NEGATIVE', 'score': 0.9874409437179565}]\n",
      "ID: 239, Sentiment: [{'label': 'POSITIVE', 'score': 0.9997871518135071}]\n",
      "ID: 240, Sentiment: [{'label': 'POSITIVE', 'score': 0.9955801367759705}]\n",
      "ID: 241, Sentiment: [{'label': 'POSITIVE', 'score': 0.9991344809532166}]\n",
      "ID: 242, Sentiment: [{'label': 'POSITIVE', 'score': 0.9899918437004089}]\n",
      "ID: 243, Sentiment: [{'label': 'POSITIVE', 'score': 0.9995191097259521}]\n",
      "ID: 244, Sentiment: [{'label': 'NEGATIVE', 'score': 0.9808691740036011}]\n",
      "ID: 245, Sentiment: [{'label': 'POSITIVE', 'score': 0.9966228008270264}]\n",
      "ID: 246, Sentiment: [{'label': 'NEGATIVE', 'score': 0.8839247822761536}]\n",
      "ID: 247, Sentiment: [{'label': 'NEGATIVE', 'score': 0.9206460118293762}]\n",
      "ID: 248, Sentiment: [{'label': 'POSITIVE', 'score': 0.9985839128494263}]\n",
      "ID: 249, Sentiment: [{'label': 'POSITIVE', 'score': 0.9980822801589966}]\n",
      "ID: 250, Sentiment: [{'label': 'POSITIVE', 'score': 0.983863353729248}]\n",
      "ID: 251, Sentiment: [{'label': 'POSITIVE', 'score': 0.9997362494468689}]\n",
      "ID: 252, Sentiment: [{'label': 'NEGATIVE', 'score': 0.9974084496498108}]\n",
      "ID: 253, Sentiment: [{'label': 'NEGATIVE', 'score': 0.9997907280921936}]\n",
      "ID: 254, Sentiment: [{'label': 'POSITIVE', 'score': 0.9938188195228577}]\n",
      "ID: 255, Sentiment: [{'label': 'NEGATIVE', 'score': 0.9976904392242432}]\n",
      "ID: 256, Sentiment: [{'label': 'NEGATIVE', 'score': 0.9950376152992249}]\n",
      "ID: 257, Sentiment: [{'label': 'POSITIVE', 'score': 0.9998505115509033}]\n",
      "ID: 258, Sentiment: [{'label': 'NEGATIVE', 'score': 0.9997606873512268}]\n",
      "ID: 259, Sentiment: [{'label': 'POSITIVE', 'score': 0.9990342855453491}]\n",
      "ID: 260, Sentiment: [{'label': 'POSITIVE', 'score': 0.9993498921394348}]\n",
      "ID: 261, Sentiment: [{'label': 'POSITIVE', 'score': 0.997731626033783}]\n",
      "ID: 262, Sentiment: [{'label': 'POSITIVE', 'score': 0.9996145963668823}]\n",
      "ID: 263, Sentiment: [{'label': 'POSITIVE', 'score': 0.9920986890792847}]\n",
      "ID: 264, Sentiment: [{'label': 'NEGATIVE', 'score': 0.9981433153152466}]\n",
      "ID: 265, Sentiment: [{'label': 'NEGATIVE', 'score': 0.5367541313171387}]\n",
      "ID: 266, Sentiment: [{'label': 'POSITIVE', 'score': 0.9998237490653992}]\n",
      "ID: 267, Sentiment: [{'label': 'NEGATIVE', 'score': 0.9856184124946594}]\n",
      "ID: 268, Sentiment: [{'label': 'NEGATIVE', 'score': 0.9994251728057861}]\n",
      "ID: 269, Sentiment: [{'label': 'NEGATIVE', 'score': 0.9911626577377319}]\n",
      "ID: 270, Sentiment: [{'label': 'POSITIVE', 'score': 0.9994903802871704}]\n",
      "ID: 271, Sentiment: [{'label': 'POSITIVE', 'score': 0.9998136162757874}]\n",
      "ID: 272, Sentiment: [{'label': 'NEGATIVE', 'score': 0.7464693784713745}]\n",
      "ID: 273, Sentiment: [{'label': 'NEGATIVE', 'score': 0.8780640959739685}]\n",
      "ID: 274, Sentiment: [{'label': 'POSITIVE', 'score': 0.9975854158401489}]\n",
      "ID: 275, Sentiment: [{'label': 'POSITIVE', 'score': 0.9997249245643616}]\n",
      "ID: 276, Sentiment: [{'label': 'NEGATIVE', 'score': 0.994398295879364}]\n",
      "ID: 277, Sentiment: [{'label': 'POSITIVE', 'score': 0.9998635053634644}]\n",
      "ID: 278, Sentiment: [{'label': 'POSITIVE', 'score': 0.9994151592254639}]\n",
      "ID: 279, Sentiment: [{'label': 'POSITIVE', 'score': 0.9998345375061035}]\n",
      "ID: 280, Sentiment: [{'label': 'POSITIVE', 'score': 0.9988382458686829}]\n",
      "ID: 281, Sentiment: [{'label': 'POSITIVE', 'score': 0.7402622103691101}]\n",
      "ID: 282, Sentiment: [{'label': 'POSITIVE', 'score': 0.9991901516914368}]\n",
      "ID: 283, Sentiment: [{'label': 'NEGATIVE', 'score': 0.9975671768188477}]\n",
      "ID: 284, Sentiment: [{'label': 'POSITIVE', 'score': 0.9978944659233093}]\n",
      "ID: 285, Sentiment: [{'label': 'POSITIVE', 'score': 0.9864557981491089}]\n",
      "ID: 286, Sentiment: [{'label': 'NEGATIVE', 'score': 0.9771186113357544}]\n",
      "ID: 287, Sentiment: [{'label': 'NEGATIVE', 'score': 0.6740889549255371}]\n",
      "ID: 288, Sentiment: [{'label': 'NEGATIVE', 'score': 0.9606538414955139}]\n",
      "ID: 289, Sentiment: [{'label': 'POSITIVE', 'score': 0.9956640601158142}]\n",
      "ID: 290, Sentiment: [{'label': 'POSITIVE', 'score': 0.999806821346283}]\n",
      "ID: 291, Sentiment: [{'label': 'POSITIVE', 'score': 0.987220287322998}]\n",
      "ID: 292, Sentiment: [{'label': 'POSITIVE', 'score': 0.9674619436264038}]\n",
      "ID: 293, Sentiment: [{'label': 'NEGATIVE', 'score': 0.9726389050483704}]\n",
      "ID: 294, Sentiment: [{'label': 'POSITIVE', 'score': 0.9897779822349548}]\n",
      "ID: 295, Sentiment: [{'label': 'NEGATIVE', 'score': 0.9884729981422424}]\n",
      "ID: 296, Sentiment: [{'label': 'NEGATIVE', 'score': 0.9970777034759521}]\n",
      "ID: 297, Sentiment: [{'label': 'POSITIVE', 'score': 0.998889148235321}]\n",
      "ID: 298, Sentiment: [{'label': 'POSITIVE', 'score': 0.9994637370109558}]\n",
      "ID: 299, Sentiment: [{'label': 'POSITIVE', 'score': 0.9998327493667603}]\n",
      "ID: 300, Sentiment: [{'label': 'POSITIVE', 'score': 0.9849224090576172}]\n",
      "ID: 301, Sentiment: [{'label': 'POSITIVE', 'score': 0.9996289014816284}]\n",
      "ID: 302, Sentiment: [{'label': 'POSITIVE', 'score': 0.9985883831977844}]\n",
      "ID: 303, Sentiment: [{'label': 'POSITIVE', 'score': 0.9949599504470825}]\n",
      "ID: 304, Sentiment: [{'label': 'POSITIVE', 'score': 0.9995726943016052}]\n",
      "ID: 305, Sentiment: [{'label': 'POSITIVE', 'score': 0.9959436058998108}]\n",
      "ID: 306, Sentiment: [{'label': 'NEGATIVE', 'score': 0.9990720748901367}]\n",
      "ID: 307, Sentiment: [{'label': 'NEGATIVE', 'score': 0.9970472455024719}]\n",
      "ID: 308, Sentiment: [{'label': 'POSITIVE', 'score': 0.9998549222946167}]\n",
      "ID: 309, Sentiment: [{'label': 'POSITIVE', 'score': 0.9996870756149292}]\n",
      "ID: 310, Sentiment: [{'label': 'POSITIVE', 'score': 0.9998749494552612}]\n",
      "ID: 311, Sentiment: [{'label': 'POSITIVE', 'score': 0.9998273253440857}]\n",
      "ID: 312, Sentiment: [{'label': 'NEGATIVE', 'score': 0.9997393488883972}]\n",
      "ID: 313, Sentiment: [{'label': 'NEGATIVE', 'score': 0.998514711856842}]\n",
      "ID: 314, Sentiment: [{'label': 'POSITIVE', 'score': 0.9959879517555237}]\n",
      "ID: 315, Sentiment: [{'label': 'POSITIVE', 'score': 0.9995050430297852}]\n",
      "ID: 316, Sentiment: [{'label': 'POSITIVE', 'score': 0.997197151184082}]\n",
      "ID: 317, Sentiment: [{'label': 'POSITIVE', 'score': 0.9998165965080261}]\n",
      "ID: 318, Sentiment: [{'label': 'NEGATIVE', 'score': 0.9807353615760803}]\n",
      "ID: 319, Sentiment: [{'label': 'POSITIVE', 'score': 0.6149134635925293}]\n",
      "ID: 320, Sentiment: [{'label': 'POSITIVE', 'score': 0.9994310736656189}]\n",
      "ID: 321, Sentiment: [{'label': 'POSITIVE', 'score': 0.9997007846832275}]\n",
      "ID: 322, Sentiment: [{'label': 'POSITIVE', 'score': 0.9990512728691101}]\n",
      "ID: 323, Sentiment: [{'label': 'POSITIVE', 'score': 0.9678061604499817}]\n",
      "ID: 324, Sentiment: [{'label': 'NEGATIVE', 'score': 0.6966691613197327}]\n",
      "ID: 325, Sentiment: [{'label': 'POSITIVE', 'score': 0.9988051652908325}]\n",
      "ID: 326, Sentiment: [{'label': 'POSITIVE', 'score': 0.9996416568756104}]\n",
      "ID: 327, Sentiment: [{'label': 'NEGATIVE', 'score': 0.6099469661712646}]\n",
      "ID: 328, Sentiment: [{'label': 'POSITIVE', 'score': 0.9436796307563782}]\n",
      "ID: 329, Sentiment: [{'label': 'NEGATIVE', 'score': 0.980043888092041}]\n",
      "ID: 330, Sentiment: [{'label': 'POSITIVE', 'score': 0.9728444218635559}]\n",
      "ID: 331, Sentiment: [{'label': 'POSITIVE', 'score': 0.9997449517250061}]\n",
      "ID: 332, Sentiment: [{'label': 'NEGATIVE', 'score': 0.998663067817688}]\n",
      "ID: 333, Sentiment: [{'label': 'POSITIVE', 'score': 0.9990643858909607}]\n",
      "ID: 334, Sentiment: [{'label': 'POSITIVE', 'score': 0.9998651742935181}]\n",
      "ID: 335, Sentiment: [{'label': 'NEGATIVE', 'score': 0.999784529209137}]\n",
      "ID: 336, Sentiment: [{'label': 'NEGATIVE', 'score': 0.9879833459854126}]\n",
      "ID: 337, Sentiment: [{'label': 'POSITIVE', 'score': 0.9997691512107849}]\n",
      "ID: 338, Sentiment: [{'label': 'POSITIVE', 'score': 0.9996981620788574}]\n",
      "ID: 339, Sentiment: [{'label': 'POSITIVE', 'score': 0.9909362196922302}]\n",
      "ID: 340, Sentiment: [{'label': 'POSITIVE', 'score': 0.9996291399002075}]\n",
      "ID: 341, Sentiment: [{'label': 'POSITIVE', 'score': 0.9901593327522278}]\n",
      "ID: 342, Sentiment: [{'label': 'POSITIVE', 'score': 0.9998615980148315}]\n",
      "ID: 343, Sentiment: [{'label': 'NEGATIVE', 'score': 0.9995096921920776}]\n",
      "ID: 344, Sentiment: [{'label': 'POSITIVE', 'score': 0.9964755177497864}]\n",
      "ID: 345, Sentiment: [{'label': 'POSITIVE', 'score': 0.9068363308906555}]\n",
      "ID: 346, Sentiment: [{'label': 'NEGATIVE', 'score': 0.9862581491470337}]\n",
      "ID: 347, Sentiment: [{'label': 'POSITIVE', 'score': 0.9992538094520569}]\n",
      "ID: 348, Sentiment: [{'label': 'NEGATIVE', 'score': 0.7012782096862793}]\n",
      "ID: 349, Sentiment: [{'label': 'POSITIVE', 'score': 0.9993942975997925}]\n",
      "ID: 350, Sentiment: [{'label': 'NEGATIVE', 'score': 0.9950096607208252}]\n",
      "ID: 351, Sentiment: [{'label': 'POSITIVE', 'score': 0.999881386756897}]\n",
      "ID: 352, Sentiment: [{'label': 'POSITIVE', 'score': 0.9998319149017334}]\n",
      "ID: 353, Sentiment: [{'label': 'NEGATIVE', 'score': 0.8649351596832275}]\n",
      "ID: 354, Sentiment: [{'label': 'NEGATIVE', 'score': 0.9029053449630737}]\n",
      "ID: 355, Sentiment: [{'label': 'POSITIVE', 'score': 0.999704897403717}]\n",
      "ID: 356, Sentiment: [{'label': 'POSITIVE', 'score': 0.9995372295379639}]\n",
      "ID: 357, Sentiment: [{'label': 'POSITIVE', 'score': 0.9871256947517395}]\n",
      "ID: 358, Sentiment: [{'label': 'POSITIVE', 'score': 0.9997937083244324}]\n",
      "ID: 359, Sentiment: [{'label': 'POSITIVE', 'score': 0.9996260404586792}]\n",
      "ID: 360, Sentiment: [{'label': 'POSITIVE', 'score': 0.9998338222503662}]\n",
      "ID: 361, Sentiment: [{'label': 'POSITIVE', 'score': 0.972770631313324}]\n",
      "ID: 362, Sentiment: [{'label': 'NEGATIVE', 'score': 0.9932973980903625}]\n",
      "ID: 363, Sentiment: [{'label': 'POSITIVE', 'score': 0.9991055130958557}]\n",
      "ID: 364, Sentiment: [{'label': 'POSITIVE', 'score': 0.9986086487770081}]\n",
      "ID: 365, Sentiment: [{'label': 'POSITIVE', 'score': 0.9998131394386292}]\n",
      "ID: 366, Sentiment: [{'label': 'POSITIVE', 'score': 0.9945002794265747}]\n",
      "ID: 367, Sentiment: [{'label': 'POSITIVE', 'score': 0.9837148785591125}]\n",
      "ID: 368, Sentiment: [{'label': 'POSITIVE', 'score': 0.9716497659683228}]\n",
      "ID: 369, Sentiment: [{'label': 'NEGATIVE', 'score': 0.9854199290275574}]\n",
      "ID: 370, Sentiment: [{'label': 'POSITIVE', 'score': 0.9992082715034485}]\n",
      "ID: 371, Sentiment: [{'label': 'POSITIVE', 'score': 0.9973700046539307}]\n",
      "ID: 372, Sentiment: [{'label': 'POSITIVE', 'score': 0.9994229078292847}]\n",
      "ID: 373, Sentiment: [{'label': 'POSITIVE', 'score': 0.9328582882881165}]\n",
      "ID: 374, Sentiment: [{'label': 'POSITIVE', 'score': 0.9998131394386292}]\n",
      "ID: 375, Sentiment: [{'label': 'POSITIVE', 'score': 0.999758780002594}]\n",
      "ID: 376, Sentiment: [{'label': 'POSITIVE', 'score': 0.9994252920150757}]\n",
      "ID: 377, Sentiment: [{'label': 'POSITIVE', 'score': 0.9997801184654236}]\n",
      "ID: 378, Sentiment: [{'label': 'POSITIVE', 'score': 0.9928597807884216}]\n",
      "ID: 379, Sentiment: [{'label': 'POSITIVE', 'score': 0.9998156428337097}]\n",
      "ID: 380, Sentiment: [{'label': 'POSITIVE', 'score': 0.9998558759689331}]\n",
      "ID: 381, Sentiment: [{'label': 'NEGATIVE', 'score': 0.976010262966156}]\n",
      "ID: 382, Sentiment: [{'label': 'NEGATIVE', 'score': 0.9966273903846741}]\n",
      "ID: 383, Sentiment: [{'label': 'POSITIVE', 'score': 0.9998124241828918}]\n",
      "ID: 384, Sentiment: [{'label': 'POSITIVE', 'score': 0.9991028308868408}]\n",
      "ID: 385, Sentiment: [{'label': 'POSITIVE', 'score': 0.9988642930984497}]\n",
      "ID: 386, Sentiment: [{'label': 'POSITIVE', 'score': 0.9945880174636841}]\n",
      "ID: 387, Sentiment: [{'label': 'POSITIVE', 'score': 0.9977360963821411}]\n",
      "ID: 388, Sentiment: [{'label': 'NEGATIVE', 'score': 0.9903014898300171}]\n",
      "ID: 389, Sentiment: [{'label': 'POSITIVE', 'score': 0.9996739625930786}]\n",
      "ID: 390, Sentiment: [{'label': 'POSITIVE', 'score': 0.990718424320221}]\n",
      "ID: 391, Sentiment: [{'label': 'NEGATIVE', 'score': 0.9485083818435669}]\n",
      "ID: 392, Sentiment: [{'label': 'POSITIVE', 'score': 0.9992807507514954}]\n",
      "ID: 393, Sentiment: [{'label': 'POSITIVE', 'score': 0.9996778964996338}]\n",
      "ID: 394, Sentiment: [{'label': 'NEGATIVE', 'score': 0.9975185394287109}]\n",
      "ID: 395, Sentiment: [{'label': 'POSITIVE', 'score': 0.9904000163078308}]\n",
      "ID: 396, Sentiment: [{'label': 'POSITIVE', 'score': 0.9998705387115479}]\n",
      "ID: 397, Sentiment: [{'label': 'POSITIVE', 'score': 0.9996154308319092}]\n",
      "ID: 398, Sentiment: [{'label': 'POSITIVE', 'score': 0.9991294741630554}]\n",
      "ID: 399, Sentiment: [{'label': 'POSITIVE', 'score': 0.9890888333320618}]\n",
      "ID: 400, Sentiment: [{'label': 'POSITIVE', 'score': 0.99959796667099}]\n",
      "ID: 401, Sentiment: [{'label': 'NEGATIVE', 'score': 0.9990707039833069}]\n",
      "ID: 402, Sentiment: [{'label': 'NEGATIVE', 'score': 0.996253490447998}]\n",
      "ID: 403, Sentiment: [{'label': 'NEGATIVE', 'score': 0.9997598528862}]\n",
      "ID: 404, Sentiment: [{'label': 'NEGATIVE', 'score': 0.5700855255126953}]\n",
      "ID: 405, Sentiment: [{'label': 'POSITIVE', 'score': 0.9989233613014221}]\n",
      "ID: 406, Sentiment: [{'label': 'POSITIVE', 'score': 0.9998452663421631}]\n",
      "ID: 407, Sentiment: [{'label': 'NEGATIVE', 'score': 0.9694195985794067}]\n",
      "ID: 408, Sentiment: [{'label': 'POSITIVE', 'score': 0.9996857643127441}]\n",
      "ID: 409, Sentiment: [{'label': 'POSITIVE', 'score': 0.9998652935028076}]\n",
      "ID: 410, Sentiment: [{'label': 'NEGATIVE', 'score': 0.9876349568367004}]\n",
      "ID: 411, Sentiment: [{'label': 'POSITIVE', 'score': 0.9893844723701477}]\n",
      "ID: 412, Sentiment: [{'label': 'POSITIVE', 'score': 0.7885986566543579}]\n",
      "ID: 413, Sentiment: [{'label': 'POSITIVE', 'score': 0.9798961877822876}]\n",
      "ID: 414, Sentiment: [{'label': 'POSITIVE', 'score': 0.9981574416160583}]\n",
      "ID: 415, Sentiment: [{'label': 'POSITIVE', 'score': 0.9831823110580444}]\n",
      "ID: 416, Sentiment: [{'label': 'POSITIVE', 'score': 0.9997627139091492}]\n",
      "ID: 417, Sentiment: [{'label': 'POSITIVE', 'score': 0.9960783123970032}]\n",
      "ID: 418, Sentiment: [{'label': 'NEGATIVE', 'score': 0.9997357726097107}]\n",
      "ID: 419, Sentiment: [{'label': 'NEGATIVE', 'score': 0.9905248284339905}]\n",
      "ID: 420, Sentiment: [{'label': 'NEGATIVE', 'score': 0.9900524020195007}]\n",
      "ID: 421, Sentiment: [{'label': 'POSITIVE', 'score': 0.9998262524604797}]\n",
      "ID: 422, Sentiment: [{'label': 'POSITIVE', 'score': 0.9955518841743469}]\n",
      "ID: 423, Sentiment: [{'label': 'NEGATIVE', 'score': 0.9993873834609985}]\n",
      "ID: 424, Sentiment: [{'label': 'POSITIVE', 'score': 0.9997064471244812}]\n",
      "ID: 425, Sentiment: [{'label': 'POSITIVE', 'score': 0.9992542862892151}]\n",
      "ID: 426, Sentiment: [{'label': 'POSITIVE', 'score': 0.9996846914291382}]\n",
      "ID: 427, Sentiment: [{'label': 'POSITIVE', 'score': 0.7627714276313782}]\n",
      "ID: 428, Sentiment: [{'label': 'POSITIVE', 'score': 0.9996923208236694}]\n",
      "ID: 429, Sentiment: [{'label': 'POSITIVE', 'score': 0.6295692324638367}]\n",
      "ID: 430, Sentiment: [{'label': 'POSITIVE', 'score': 0.9998317956924438}]\n",
      "ID: 431, Sentiment: [{'label': 'NEGATIVE', 'score': 0.9223616719245911}]\n",
      "ID: 432, Sentiment: [{'label': 'POSITIVE', 'score': 0.9960152506828308}]\n",
      "ID: 433, Sentiment: [{'label': 'NEGATIVE', 'score': 0.9525579214096069}]\n",
      "ID: 434, Sentiment: [{'label': 'POSITIVE', 'score': 0.9933254718780518}]\n",
      "ID: 435, Sentiment: [{'label': 'POSITIVE', 'score': 0.9973828196525574}]\n",
      "ID: 436, Sentiment: [{'label': 'POSITIVE', 'score': 0.99978107213974}]\n",
      "ID: 437, Sentiment: [{'label': 'POSITIVE', 'score': 0.9943652153015137}]\n",
      "ID: 438, Sentiment: [{'label': 'POSITIVE', 'score': 0.9990732669830322}]\n",
      "ID: 439, Sentiment: [{'label': 'POSITIVE', 'score': 0.9998358488082886}]\n",
      "ID: 440, Sentiment: [{'label': 'NEGATIVE', 'score': 0.9761542677879333}]\n",
      "ID: 441, Sentiment: [{'label': 'NEGATIVE', 'score': 0.9806792736053467}]\n",
      "ID: 442, Sentiment: [{'label': 'POSITIVE', 'score': 0.9997614026069641}]\n",
      "ID: 443, Sentiment: [{'label': 'POSITIVE', 'score': 0.9997324347496033}]\n",
      "ID: 444, Sentiment: [{'label': 'NEGATIVE', 'score': 0.9578166604042053}]\n",
      "ID: 445, Sentiment: [{'label': 'POSITIVE', 'score': 0.9760907888412476}]\n",
      "ID: 446, Sentiment: [{'label': 'NEGATIVE', 'score': 0.9966159462928772}]\n",
      "ID: 447, Sentiment: [{'label': 'POSITIVE', 'score': 0.9967784285545349}]\n",
      "ID: 448, Sentiment: [{'label': 'POSITIVE', 'score': 0.9997603297233582}]\n",
      "ID: 449, Sentiment: [{'label': 'POSITIVE', 'score': 0.9951655864715576}]\n",
      "ID: 450, Sentiment: [{'label': 'POSITIVE', 'score': 0.9998136162757874}]\n",
      "ID: 451, Sentiment: [{'label': 'POSITIVE', 'score': 0.9899705052375793}]\n",
      "ID: 452, Sentiment: [{'label': 'POSITIVE', 'score': 0.9983360171318054}]\n",
      "ID: 453, Sentiment: [{'label': 'POSITIVE', 'score': 0.9998846054077148}]\n",
      "ID: 454, Sentiment: [{'label': 'POSITIVE', 'score': 0.9998291730880737}]\n",
      "ID: 455, Sentiment: [{'label': 'POSITIVE', 'score': 0.9997351765632629}]\n",
      "ID: 456, Sentiment: [{'label': 'POSITIVE', 'score': 0.9991808533668518}]\n",
      "ID: 457, Sentiment: [{'label': 'POSITIVE', 'score': 0.9997740387916565}]\n",
      "ID: 458, Sentiment: [{'label': 'POSITIVE', 'score': 0.9998199343681335}]\n",
      "ID: 459, Sentiment: [{'label': 'NEGATIVE', 'score': 0.9962291121482849}]\n",
      "ID: 460, Sentiment: [{'label': 'POSITIVE', 'score': 0.9976109266281128}]\n",
      "ID: 461, Sentiment: [{'label': 'NEGATIVE', 'score': 0.9953809976577759}]\n",
      "ID: 462, Sentiment: [{'label': 'NEGATIVE', 'score': 0.9872807860374451}]\n",
      "ID: 463, Sentiment: [{'label': 'POSITIVE', 'score': 0.9931085109710693}]\n",
      "ID: 464, Sentiment: [{'label': 'POSITIVE', 'score': 0.6788449287414551}]\n",
      "ID: 465, Sentiment: [{'label': 'POSITIVE', 'score': 0.9998337030410767}]\n",
      "ID: 466, Sentiment: [{'label': 'POSITIVE', 'score': 0.9990272521972656}]\n",
      "ID: 467, Sentiment: [{'label': 'POSITIVE', 'score': 0.9984594583511353}]\n",
      "ID: 468, Sentiment: [{'label': 'POSITIVE', 'score': 0.9962235689163208}]\n",
      "ID: 469, Sentiment: [{'label': 'NEGATIVE', 'score': 0.6947101354598999}]\n",
      "ID: 470, Sentiment: [{'label': 'NEGATIVE', 'score': 0.7010970711708069}]\n",
      "ID: 471, Sentiment: [{'label': 'POSITIVE', 'score': 0.9767346978187561}]\n",
      "ID: 472, Sentiment: [{'label': 'POSITIVE', 'score': 0.9997861981391907}]\n",
      "ID: 473, Sentiment: [{'label': 'POSITIVE', 'score': 0.9998418092727661}]\n",
      "ID: 474, Sentiment: [{'label': 'POSITIVE', 'score': 0.9993029832839966}]\n",
      "ID: 475, Sentiment: [{'label': 'POSITIVE', 'score': 0.9998631477355957}]\n",
      "ID: 476, Sentiment: [{'label': 'POSITIVE', 'score': 0.999648928642273}]\n",
      "ID: 477, Sentiment: [{'label': 'POSITIVE', 'score': 0.9980093836784363}]\n",
      "ID: 478, Sentiment: [{'label': 'POSITIVE', 'score': 0.99974125623703}]\n",
      "ID: 479, Sentiment: [{'label': 'POSITIVE', 'score': 0.9991508722305298}]\n",
      "ID: 480, Sentiment: [{'label': 'POSITIVE', 'score': 0.9997777342796326}]\n",
      "ID: 481, Sentiment: [{'label': 'NEGATIVE', 'score': 0.9586807489395142}]\n",
      "ID: 482, Sentiment: [{'label': 'POSITIVE', 'score': 0.9997424483299255}]\n",
      "ID: 483, Sentiment: [{'label': 'POSITIVE', 'score': 0.9998000264167786}]\n",
      "ID: 484, Sentiment: [{'label': 'NEGATIVE', 'score': 0.9740871787071228}]\n",
      "ID: 485, Sentiment: [{'label': 'POSITIVE', 'score': 0.9966086149215698}]\n",
      "ID: 486, Sentiment: [{'label': 'POSITIVE', 'score': 0.9864798188209534}]\n",
      "ID: 487, Sentiment: [{'label': 'POSITIVE', 'score': 0.9998014569282532}]\n",
      "ID: 488, Sentiment: [{'label': 'NEGATIVE', 'score': 0.9996128678321838}]\n",
      "ID: 489, Sentiment: [{'label': 'NEGATIVE', 'score': 0.7682077288627625}]\n",
      "ID: 490, Sentiment: [{'label': 'POSITIVE', 'score': 0.9997739195823669}]\n",
      "ID: 491, Sentiment: [{'label': 'NEGATIVE', 'score': 0.8953831195831299}]\n",
      "ID: 492, Sentiment: [{'label': 'POSITIVE', 'score': 0.9988487958908081}]\n",
      "ID: 493, Sentiment: [{'label': 'POSITIVE', 'score': 0.9995669722557068}]\n",
      "ID: 494, Sentiment: [{'label': 'NEGATIVE', 'score': 0.9974505305290222}]\n",
      "ID: 495, Sentiment: [{'label': 'POSITIVE', 'score': 0.9995843768119812}]\n",
      "ID: 496, Sentiment: [{'label': 'POSITIVE', 'score': 0.999860405921936}]\n",
      "ID: 497, Sentiment: [{'label': 'POSITIVE', 'score': 0.9997543692588806}]\n",
      "ID: 498, Sentiment: [{'label': 'POSITIVE', 'score': 0.999424934387207}]\n",
      "ID: 499, Sentiment: [{'label': 'POSITIVE', 'score': 0.9929520487785339}]\n",
      "ID: 500, Sentiment: [{'label': 'POSITIVE', 'score': 0.9997958540916443}]\n"
     ]
    }
   ],
   "source": [
    "# Display the results\n",
    "print(\"Results:\")\n",
    "for myid, result in pip.items():\n",
    "    print(f\"ID: {myid}, Sentiment: {result}\")"
   ]
  },
  {
   "cell_type": "code",
   "execution_count": null,
   "id": "434fb067-5223-4141-87e6-7e53ad35842e",
   "metadata": {},
   "outputs": [],
   "source": []
  }
 ],
 "metadata": {
  "kernelspec": {
   "display_name": "Python 3 (ipykernel)",
   "language": "python",
   "name": "python3"
  },
  "language_info": {
   "codemirror_mode": {
    "name": "ipython",
    "version": 3
   },
   "file_extension": ".py",
   "mimetype": "text/x-python",
   "name": "python",
   "nbconvert_exporter": "python",
   "pygments_lexer": "ipython3",
   "version": "3.11.7"
  }
 },
 "nbformat": 4,
 "nbformat_minor": 5
}
